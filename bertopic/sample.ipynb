{
 "cells": [
  {
   "cell_type": "code",
   "execution_count": null,
   "metadata": {},
   "outputs": [],
   "source": [
    "import os\n",
    "from bertopic import BERTopic\n",
    "topic_model = BERTopic()\n",
    "file_path = \"/home/cs474/CS474/data.txt\"\n",
    "of = open(file_path, 'r')\n",
    "rf = of.read()\n",
    "of.close()\n",
    "splitted = rf.split('\\n')"
   ]
  },
  {
   "cell_type": "code",
   "execution_count": null,
   "metadata": {},
   "outputs": [],
   "source": [
    "topics, probs = topic_model.fit_transform(splitted)"
   ]
  },
  {
   "cell_type": "code",
   "execution_count": null,
   "metadata": {},
   "outputs": [],
   "source": []
  },
  {
   "cell_type": "code",
   "execution_count": null,
   "metadata": {},
   "outputs": [],
   "source": []
  }
 ],
 "metadata": {
  "interpreter": {
   "hash": "a99f12c64fdee6a132d4505656b652aaade20f53e1739c974ebb0665ab2f413d"
  },
  "kernelspec": {
   "display_name": "Python 3.8.10 64-bit ('cuda111': conda)",
   "language": "python",
   "name": "python3"
  },
  "language_info": {
   "name": "python",
   "version": "3.8.10"
  },
  "orig_nbformat": 4
 },
 "nbformat": 4,
 "nbformat_minor": 2
}
